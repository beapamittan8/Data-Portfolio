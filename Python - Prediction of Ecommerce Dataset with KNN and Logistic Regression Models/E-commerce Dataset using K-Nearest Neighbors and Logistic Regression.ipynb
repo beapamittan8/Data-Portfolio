{
 "cells": [
  {
   "cell_type": "markdown",
   "id": "Z88FfJc9lA_T",
   "metadata": {
    "id": "Z88FfJc9lA_T"
   },
   "source": [
    "## Analysis of an E-commerce Dataset Part 3 (s2 2023)"
   ]
  },
  {
   "cell_type": "markdown",
   "id": "hoq0NwA9lA_V",
   "metadata": {
    "id": "hoq0NwA9lA_V"
   },
   "source": [
    "\n",
    "In this Portfolio task, you will continue working with the dataset you have used in portfolio 2. But the difference is that the ratings have been converted to like (with score 1) and dislike (with score 0). Your task is to train classification models such as KNN to predict whether a user like or dislike an item.  \n",
    "\n",
    "\n",
    "The header of the csv file is shown below. \n",
    "\n",
    "| userId | timestamp | review | item | helpfulness | gender | category | item_id | item_price | user_city | rating |\n",
    "    | ---- | ---- | ---- | ---- | ---- | ---- | ---- | ---- | ---- | ---- | ---- |\n",
    "    \n",
    "Your high level goal in this notebook is to try to build and evaluate predictive models for 'rating' from other available features - predict the value of the like (corresponding to rating 1) and dislike (corresponding to rating 0) in the data from some of the other fields. More specifically, you need to complete the following major steps: \n",
    "1) Explore the data. Clean the data if necessary. For example, remove abnormal instanaces and replace missing values.\n",
    "2) Convert object features into digit features by using an encoder\n",
    "3) Study the correlation between these features. \n",
    "4) Split the dataset and train a logistic regression model to predict 'rating' based on other features. Evaluate the accuracy of your model.\n",
    "5) Split the dataset and train a KNN model to predict 'rating' based on other features. You can set K with an ad-hoc manner in this step. Evaluate the accuracy of your model.\n",
    "6) Tune the hyper-parameter K in KNN to see how it influences the prediction performance\n",
    "\n",
    "Note 1: We did not provide any description of each step in the notebook. You should learn how to properly comment your notebook by yourself to make your notebook file readable. \n",
    "\n",
    "Note 2: you are not being evaluated on the ___accuracy___ of the model but on the ___process___ that you use to generate it. Please use both ___Logistic Regression model___ and ___KNN model___ for solving this classification problem. Accordingly, discuss the performance of these two methods.\n",
    "    "
   ]
  },
  {
   "cell_type": "markdown",
   "id": "a814e133",
   "metadata": {},
   "source": [
    "## Import Libraries"
   ]
  },
  {
   "cell_type": "code",
   "execution_count": 1,
   "id": "fa559df1",
   "metadata": {},
   "outputs": [],
   "source": [
    "import pandas as pd\n",
    "import numpy as np\n",
    "from sklearn.cluster import KMeans\n",
    "from sklearn.metrics import pairwise_distances\n",
    "from scipy.cluster.hierarchy import linkage, dendrogram, cut_tree\n",
    "from scipy.spatial.distance import pdist \n",
    "from sklearn.feature_extraction.text import TfidfVectorizer\n",
    "import matplotlib.pyplot as plt\n",
    "%matplotlib inline\n",
    "import seaborn as sns\n",
    "from sklearn.model_selection import train_test_split\n",
    "from sklearn import linear_model\n",
    "from sklearn.metrics import r2_score\n",
    "from sklearn.linear_model import LogisticRegression\n",
    "from sklearn.metrics import confusion_matrix, accuracy_score\n",
    "from sklearn.feature_selection import RFE\n",
    "from sklearn.datasets import make_classification\n",
    "from sklearn.neighbors import KNeighborsClassifier\n",
    "from sklearn.metrics import accuracy_score\n",
    "\n",
    "from sklearn.model_selection import cross_val_score\n",
    "from sklearn.model_selection import GridSearchCV\n",
    "\n",
    "import warnings\n",
    "warnings.filterwarnings(\"ignore\")\n"
   ]
  },
  {
   "cell_type": "markdown",
   "id": "3f88d8d1",
   "metadata": {},
   "source": [
    "## Import and Explore Data "
   ]
  },
  {
   "cell_type": "code",
   "execution_count": 2,
   "id": "92c93a25",
   "metadata": {},
   "outputs": [
    {
     "data": {
      "text/html": [
       "<div>\n",
       "<style scoped>\n",
       "    .dataframe tbody tr th:only-of-type {\n",
       "        vertical-align: middle;\n",
       "    }\n",
       "\n",
       "    .dataframe tbody tr th {\n",
       "        vertical-align: top;\n",
       "    }\n",
       "\n",
       "    .dataframe thead th {\n",
       "        text-align: right;\n",
       "    }\n",
       "</style>\n",
       "<table border=\"1\" class=\"dataframe\">\n",
       "  <thead>\n",
       "    <tr style=\"text-align: right;\">\n",
       "      <th></th>\n",
       "      <th>userId</th>\n",
       "      <th>timestamp</th>\n",
       "      <th>review</th>\n",
       "      <th>item</th>\n",
       "      <th>helpfulness</th>\n",
       "      <th>gender</th>\n",
       "      <th>category</th>\n",
       "      <th>item_id</th>\n",
       "      <th>item_price</th>\n",
       "      <th>user_city</th>\n",
       "      <th>rating</th>\n",
       "    </tr>\n",
       "  </thead>\n",
       "  <tbody>\n",
       "    <tr>\n",
       "      <th>0</th>\n",
       "      <td>4081</td>\n",
       "      <td>71900</td>\n",
       "      <td>Not always McCrap</td>\n",
       "      <td>McDonald's</td>\n",
       "      <td>3</td>\n",
       "      <td>M</td>\n",
       "      <td>Restaurants &amp; Gourmet</td>\n",
       "      <td>41</td>\n",
       "      <td>30.74</td>\n",
       "      <td>4</td>\n",
       "      <td>1</td>\n",
       "    </tr>\n",
       "    <tr>\n",
       "      <th>1</th>\n",
       "      <td>4081</td>\n",
       "      <td>72000</td>\n",
       "      <td>I dropped the chalupa even before he told me to</td>\n",
       "      <td>Taco Bell</td>\n",
       "      <td>4</td>\n",
       "      <td>M</td>\n",
       "      <td>Restaurants &amp; Gourmet</td>\n",
       "      <td>74</td>\n",
       "      <td>108.30</td>\n",
       "      <td>4</td>\n",
       "      <td>0</td>\n",
       "    </tr>\n",
       "    <tr>\n",
       "      <th>2</th>\n",
       "      <td>4081</td>\n",
       "      <td>72000</td>\n",
       "      <td>The Wonderful World of Wendy</td>\n",
       "      <td>Wendy's</td>\n",
       "      <td>4</td>\n",
       "      <td>M</td>\n",
       "      <td>Restaurants &amp; Gourmet</td>\n",
       "      <td>84</td>\n",
       "      <td>69.00</td>\n",
       "      <td>4</td>\n",
       "      <td>1</td>\n",
       "    </tr>\n",
       "    <tr>\n",
       "      <th>3</th>\n",
       "      <td>4081</td>\n",
       "      <td>100399</td>\n",
       "      <td>They actually did it</td>\n",
       "      <td>South Park: Bigger, Longer &amp; Uncut</td>\n",
       "      <td>3</td>\n",
       "      <td>M</td>\n",
       "      <td>Movies</td>\n",
       "      <td>68</td>\n",
       "      <td>143.11</td>\n",
       "      <td>4</td>\n",
       "      <td>1</td>\n",
       "    </tr>\n",
       "    <tr>\n",
       "      <th>4</th>\n",
       "      <td>4081</td>\n",
       "      <td>100399</td>\n",
       "      <td>Hey! Gimme some pie!</td>\n",
       "      <td>American Pie</td>\n",
       "      <td>3</td>\n",
       "      <td>M</td>\n",
       "      <td>Movies</td>\n",
       "      <td>6</td>\n",
       "      <td>117.89</td>\n",
       "      <td>4</td>\n",
       "      <td>0</td>\n",
       "    </tr>\n",
       "    <tr>\n",
       "      <th>...</th>\n",
       "      <td>...</td>\n",
       "      <td>...</td>\n",
       "      <td>...</td>\n",
       "      <td>...</td>\n",
       "      <td>...</td>\n",
       "      <td>...</td>\n",
       "      <td>...</td>\n",
       "      <td>...</td>\n",
       "      <td>...</td>\n",
       "      <td>...</td>\n",
       "      <td>...</td>\n",
       "    </tr>\n",
       "    <tr>\n",
       "      <th>95</th>\n",
       "      <td>86</td>\n",
       "      <td>73000</td>\n",
       "      <td>King Me</td>\n",
       "      <td>Burger King</td>\n",
       "      <td>4</td>\n",
       "      <td>F</td>\n",
       "      <td>Restaurants &amp; Gourmet</td>\n",
       "      <td>16</td>\n",
       "      <td>49.00</td>\n",
       "      <td>15</td>\n",
       "      <td>1</td>\n",
       "    </tr>\n",
       "    <tr>\n",
       "      <th>96</th>\n",
       "      <td>4256</td>\n",
       "      <td>42800</td>\n",
       "      <td>A Game For The Rest Of Us..</td>\n",
       "      <td>The Sims 2: Open for Business for Windows</td>\n",
       "      <td>4</td>\n",
       "      <td>F</td>\n",
       "      <td>Games</td>\n",
       "      <td>79</td>\n",
       "      <td>27.00</td>\n",
       "      <td>38</td>\n",
       "      <td>1</td>\n",
       "    </tr>\n",
       "    <tr>\n",
       "      <th>97</th>\n",
       "      <td>4256</td>\n",
       "      <td>42800</td>\n",
       "      <td>A nice place to live, but I wouldnt want to visit</td>\n",
       "      <td>New York City</td>\n",
       "      <td>4</td>\n",
       "      <td>F</td>\n",
       "      <td>Hotels &amp; Travel</td>\n",
       "      <td>47</td>\n",
       "      <td>136.00</td>\n",
       "      <td>38</td>\n",
       "      <td>0</td>\n",
       "    </tr>\n",
       "    <tr>\n",
       "      <th>98</th>\n",
       "      <td>4256</td>\n",
       "      <td>50300</td>\n",
       "      <td>I Saw it Two Days in A Row!!!</td>\n",
       "      <td>Dogma</td>\n",
       "      <td>4</td>\n",
       "      <td>F</td>\n",
       "      <td>Movies</td>\n",
       "      <td>22</td>\n",
       "      <td>87.59</td>\n",
       "      <td>38</td>\n",
       "      <td>1</td>\n",
       "    </tr>\n",
       "    <tr>\n",
       "      <th>99</th>\n",
       "      <td>4256</td>\n",
       "      <td>51200</td>\n",
       "      <td>The Truth About The Subways</td>\n",
       "      <td>New York City</td>\n",
       "      <td>4</td>\n",
       "      <td>F</td>\n",
       "      <td>Hotels &amp; Travel</td>\n",
       "      <td>47</td>\n",
       "      <td>136.00</td>\n",
       "      <td>38</td>\n",
       "      <td>1</td>\n",
       "    </tr>\n",
       "  </tbody>\n",
       "</table>\n",
       "<p>100 rows × 11 columns</p>\n",
       "</div>"
      ],
      "text/plain": [
       "    userId  timestamp                                             review  \\\n",
       "0     4081      71900                                  Not always McCrap   \n",
       "1     4081      72000    I dropped the chalupa even before he told me to   \n",
       "2     4081      72000                       The Wonderful World of Wendy   \n",
       "3     4081     100399                               They actually did it   \n",
       "4     4081     100399                               Hey! Gimme some pie!   \n",
       "..     ...        ...                                                ...   \n",
       "95      86      73000                                            King Me   \n",
       "96    4256      42800                        A Game For The Rest Of Us..   \n",
       "97    4256      42800  A nice place to live, but I wouldnt want to visit   \n",
       "98    4256      50300                      I Saw it Two Days in A Row!!!   \n",
       "99    4256      51200                        The Truth About The Subways   \n",
       "\n",
       "                                         item  helpfulness gender  \\\n",
       "0                                  McDonald's            3      M   \n",
       "1                                   Taco Bell            4      M   \n",
       "2                                     Wendy's            4      M   \n",
       "3          South Park: Bigger, Longer & Uncut            3      M   \n",
       "4                                American Pie            3      M   \n",
       "..                                        ...          ...    ...   \n",
       "95                                Burger King            4      F   \n",
       "96  The Sims 2: Open for Business for Windows            4      F   \n",
       "97                              New York City            4      F   \n",
       "98                                      Dogma            4      F   \n",
       "99                              New York City            4      F   \n",
       "\n",
       "                 category  item_id  item_price  user_city  rating  \n",
       "0   Restaurants & Gourmet       41       30.74          4       1  \n",
       "1   Restaurants & Gourmet       74      108.30          4       0  \n",
       "2   Restaurants & Gourmet       84       69.00          4       1  \n",
       "3                  Movies       68      143.11          4       1  \n",
       "4                  Movies        6      117.89          4       0  \n",
       "..                    ...      ...         ...        ...     ...  \n",
       "95  Restaurants & Gourmet       16       49.00         15       1  \n",
       "96                  Games       79       27.00         38       1  \n",
       "97        Hotels & Travel       47      136.00         38       0  \n",
       "98                 Movies       22       87.59         38       1  \n",
       "99        Hotels & Travel       47      136.00         38       1  \n",
       "\n",
       "[100 rows x 11 columns]"
      ]
     },
     "execution_count": 2,
     "metadata": {},
     "output_type": "execute_result"
    }
   ],
   "source": [
    "#Load csv file and preview first few rows of table\n",
    "df = pd.read_csv('Data/portfolio_3.csv')\n",
    "df.head(100)"
   ]
  },
  {
   "cell_type": "code",
   "execution_count": 3,
   "id": "ce0f3025",
   "metadata": {},
   "outputs": [
    {
     "name": "stdout",
     "output_type": "stream",
     "text": [
      "<class 'pandas.core.frame.DataFrame'>\n",
      "RangeIndex: 2685 entries, 0 to 2684\n",
      "Data columns (total 11 columns):\n",
      " #   Column       Non-Null Count  Dtype  \n",
      "---  ------       --------------  -----  \n",
      " 0   userId       2685 non-null   int64  \n",
      " 1   timestamp    2685 non-null   int64  \n",
      " 2   review       2685 non-null   object \n",
      " 3   item         2685 non-null   object \n",
      " 4   helpfulness  2685 non-null   int64  \n",
      " 5   gender       2685 non-null   object \n",
      " 6   category     2685 non-null   object \n",
      " 7   item_id      2685 non-null   int64  \n",
      " 8   item_price   2685 non-null   float64\n",
      " 9   user_city    2685 non-null   int64  \n",
      " 10  rating       2685 non-null   int64  \n",
      "dtypes: float64(1), int64(6), object(4)\n",
      "memory usage: 230.9+ KB\n"
     ]
    }
   ],
   "source": [
    "# Check for missing values \n",
    "df.info()"
   ]
  },
  {
   "cell_type": "code",
   "execution_count": 4,
   "id": "5fbd13ad",
   "metadata": {},
   "outputs": [
    {
     "data": {
      "text/plain": [
       "(2685, 11)"
      ]
     },
     "execution_count": 4,
     "metadata": {},
     "output_type": "execute_result"
    }
   ],
   "source": [
    "#Check initial shape of the values\n",
    "df.shape"
   ]
  },
  {
   "cell_type": "markdown",
   "id": "70b48f7d",
   "metadata": {},
   "source": [
    "### Convert object features into digit features by using an encoder"
   ]
  },
  {
   "cell_type": "markdown",
   "id": "c3d97cee",
   "metadata": {},
   "source": [
    "The object features to be encoded are the following: review, item, gender, category"
   ]
  },
  {
   "cell_type": "code",
   "execution_count": 5,
   "id": "b7532ef9",
   "metadata": {},
   "outputs": [
    {
     "data": {
      "text/html": [
       "<div>\n",
       "<style scoped>\n",
       "    .dataframe tbody tr th:only-of-type {\n",
       "        vertical-align: middle;\n",
       "    }\n",
       "\n",
       "    .dataframe tbody tr th {\n",
       "        vertical-align: top;\n",
       "    }\n",
       "\n",
       "    .dataframe thead th {\n",
       "        text-align: right;\n",
       "    }\n",
       "</style>\n",
       "<table border=\"1\" class=\"dataframe\">\n",
       "  <thead>\n",
       "    <tr style=\"text-align: right;\">\n",
       "      <th></th>\n",
       "      <th>userId</th>\n",
       "      <th>timestamp</th>\n",
       "      <th>review</th>\n",
       "      <th>item</th>\n",
       "      <th>helpfulness</th>\n",
       "      <th>gender</th>\n",
       "      <th>category</th>\n",
       "      <th>item_id</th>\n",
       "      <th>item_price</th>\n",
       "      <th>user_city</th>\n",
       "      <th>rating</th>\n",
       "      <th>item_code</th>\n",
       "      <th>gender_code</th>\n",
       "      <th>category_code</th>\n",
       "      <th>review_code</th>\n",
       "    </tr>\n",
       "  </thead>\n",
       "  <tbody>\n",
       "    <tr>\n",
       "      <th>0</th>\n",
       "      <td>4081</td>\n",
       "      <td>71900</td>\n",
       "      <td>Not always McCrap</td>\n",
       "      <td>McDonald's</td>\n",
       "      <td>3</td>\n",
       "      <td>M</td>\n",
       "      <td>Restaurants &amp; Gourmet</td>\n",
       "      <td>41</td>\n",
       "      <td>30.74</td>\n",
       "      <td>4</td>\n",
       "      <td>1</td>\n",
       "      <td>37.0</td>\n",
       "      <td>1.0</td>\n",
       "      <td>8.0</td>\n",
       "      <td>1618.0</td>\n",
       "    </tr>\n",
       "    <tr>\n",
       "      <th>1</th>\n",
       "      <td>4081</td>\n",
       "      <td>72000</td>\n",
       "      <td>I dropped the chalupa even before he told me to</td>\n",
       "      <td>Taco Bell</td>\n",
       "      <td>4</td>\n",
       "      <td>M</td>\n",
       "      <td>Restaurants &amp; Gourmet</td>\n",
       "      <td>74</td>\n",
       "      <td>108.30</td>\n",
       "      <td>4</td>\n",
       "      <td>0</td>\n",
       "      <td>67.0</td>\n",
       "      <td>1.0</td>\n",
       "      <td>8.0</td>\n",
       "      <td>1125.0</td>\n",
       "    </tr>\n",
       "    <tr>\n",
       "      <th>2</th>\n",
       "      <td>4081</td>\n",
       "      <td>72000</td>\n",
       "      <td>The Wonderful World of Wendy</td>\n",
       "      <td>Wendy's</td>\n",
       "      <td>4</td>\n",
       "      <td>M</td>\n",
       "      <td>Restaurants &amp; Gourmet</td>\n",
       "      <td>84</td>\n",
       "      <td>69.00</td>\n",
       "      <td>4</td>\n",
       "      <td>1</td>\n",
       "      <td>77.0</td>\n",
       "      <td>1.0</td>\n",
       "      <td>8.0</td>\n",
       "      <td>2185.0</td>\n",
       "    </tr>\n",
       "    <tr>\n",
       "      <th>3</th>\n",
       "      <td>4081</td>\n",
       "      <td>100399</td>\n",
       "      <td>They actually did it</td>\n",
       "      <td>South Park: Bigger, Longer &amp; Uncut</td>\n",
       "      <td>3</td>\n",
       "      <td>M</td>\n",
       "      <td>Movies</td>\n",
       "      <td>68</td>\n",
       "      <td>143.11</td>\n",
       "      <td>4</td>\n",
       "      <td>1</td>\n",
       "      <td>61.0</td>\n",
       "      <td>1.0</td>\n",
       "      <td>5.0</td>\n",
       "      <td>2243.0</td>\n",
       "    </tr>\n",
       "    <tr>\n",
       "      <th>4</th>\n",
       "      <td>4081</td>\n",
       "      <td>100399</td>\n",
       "      <td>Hey! Gimme some pie!</td>\n",
       "      <td>American Pie</td>\n",
       "      <td>3</td>\n",
       "      <td>M</td>\n",
       "      <td>Movies</td>\n",
       "      <td>6</td>\n",
       "      <td>117.89</td>\n",
       "      <td>4</td>\n",
       "      <td>0</td>\n",
       "      <td>5.0</td>\n",
       "      <td>1.0</td>\n",
       "      <td>5.0</td>\n",
       "      <td>1033.0</td>\n",
       "    </tr>\n",
       "    <tr>\n",
       "      <th>5</th>\n",
       "      <td>4081</td>\n",
       "      <td>100399</td>\n",
       "      <td>Good for sci-fi</td>\n",
       "      <td>Matrix</td>\n",
       "      <td>3</td>\n",
       "      <td>M</td>\n",
       "      <td>Movies</td>\n",
       "      <td>40</td>\n",
       "      <td>24.51</td>\n",
       "      <td>4</td>\n",
       "      <td>0</td>\n",
       "      <td>36.0</td>\n",
       "      <td>1.0</td>\n",
       "      <td>5.0</td>\n",
       "      <td>925.0</td>\n",
       "    </tr>\n",
       "    <tr>\n",
       "      <th>6</th>\n",
       "      <td>4081</td>\n",
       "      <td>100399</td>\n",
       "      <td>Scary? you bet!</td>\n",
       "      <td>Blair Witch Project</td>\n",
       "      <td>3</td>\n",
       "      <td>M</td>\n",
       "      <td>Movies</td>\n",
       "      <td>12</td>\n",
       "      <td>44.00</td>\n",
       "      <td>4</td>\n",
       "      <td>1</td>\n",
       "      <td>11.0</td>\n",
       "      <td>1.0</td>\n",
       "      <td>5.0</td>\n",
       "      <td>1854.0</td>\n",
       "    </tr>\n",
       "    <tr>\n",
       "      <th>7</th>\n",
       "      <td>4081</td>\n",
       "      <td>101899</td>\n",
       "      <td>Fox - the 4th basic channel</td>\n",
       "      <td>FOX</td>\n",
       "      <td>4</td>\n",
       "      <td>M</td>\n",
       "      <td>Media</td>\n",
       "      <td>25</td>\n",
       "      <td>80.00</td>\n",
       "      <td>4</td>\n",
       "      <td>1</td>\n",
       "      <td>23.0</td>\n",
       "      <td>1.0</td>\n",
       "      <td>4.0</td>\n",
       "      <td>795.0</td>\n",
       "    </tr>\n",
       "    <tr>\n",
       "      <th>8</th>\n",
       "      <td>4081</td>\n",
       "      <td>112099</td>\n",
       "      <td>Amen!</td>\n",
       "      <td>Dogma</td>\n",
       "      <td>3</td>\n",
       "      <td>M</td>\n",
       "      <td>Movies</td>\n",
       "      <td>22</td>\n",
       "      <td>87.59</td>\n",
       "      <td>4</td>\n",
       "      <td>1</td>\n",
       "      <td>21.0</td>\n",
       "      <td>1.0</td>\n",
       "      <td>5.0</td>\n",
       "      <td>262.0</td>\n",
       "    </tr>\n",
       "    <tr>\n",
       "      <th>9</th>\n",
       "      <td>4081</td>\n",
       "      <td>122899</td>\n",
       "      <td>mama mia!</td>\n",
       "      <td>Olive Garden</td>\n",
       "      <td>3</td>\n",
       "      <td>M</td>\n",
       "      <td>Restaurants &amp; Gourmet</td>\n",
       "      <td>49</td>\n",
       "      <td>32.00</td>\n",
       "      <td>4</td>\n",
       "      <td>1</td>\n",
       "      <td>44.0</td>\n",
       "      <td>1.0</td>\n",
       "      <td>8.0</td>\n",
       "      <td>2643.0</td>\n",
       "    </tr>\n",
       "    <tr>\n",
       "      <th>10</th>\n",
       "      <td>4081</td>\n",
       "      <td>122999</td>\n",
       "      <td>Let's go Furby hunting, Pa</td>\n",
       "      <td>The Original Furby</td>\n",
       "      <td>3</td>\n",
       "      <td>M</td>\n",
       "      <td>Kids &amp; Family</td>\n",
       "      <td>78</td>\n",
       "      <td>22.38</td>\n",
       "      <td>4</td>\n",
       "      <td>0</td>\n",
       "      <td>71.0</td>\n",
       "      <td>1.0</td>\n",
       "      <td>3.0</td>\n",
       "      <td>1342.0</td>\n",
       "    </tr>\n",
       "    <tr>\n",
       "      <th>11</th>\n",
       "      <td>4159</td>\n",
       "      <td>22304</td>\n",
       "      <td>Good Steak for a Good Value</td>\n",
       "      <td>Outback Steakhouse</td>\n",
       "      <td>4</td>\n",
       "      <td>M</td>\n",
       "      <td>Restaurants &amp; Gourmet</td>\n",
       "      <td>50</td>\n",
       "      <td>25.00</td>\n",
       "      <td>10</td>\n",
       "      <td>1</td>\n",
       "      <td>45.0</td>\n",
       "      <td>1.0</td>\n",
       "      <td>8.0</td>\n",
       "      <td>913.0</td>\n",
       "    </tr>\n",
       "    <tr>\n",
       "      <th>12</th>\n",
       "      <td>4159</td>\n",
       "      <td>60203</td>\n",
       "      <td>Although very simple to use, it is powerful an...</td>\n",
       "      <td>Google</td>\n",
       "      <td>4</td>\n",
       "      <td>M</td>\n",
       "      <td>Online Stores &amp; Services</td>\n",
       "      <td>32</td>\n",
       "      <td>100.62</td>\n",
       "      <td>10</td>\n",
       "      <td>1</td>\n",
       "      <td>29.0</td>\n",
       "      <td>1.0</td>\n",
       "      <td>6.0</td>\n",
       "      <td>250.0</td>\n",
       "    </tr>\n",
       "    <tr>\n",
       "      <th>13</th>\n",
       "      <td>4159</td>\n",
       "      <td>70400</td>\n",
       "      <td>Good service but  too many busy signals</td>\n",
       "      <td>NetZero</td>\n",
       "      <td>3</td>\n",
       "      <td>M</td>\n",
       "      <td>Online Stores &amp; Services</td>\n",
       "      <td>46</td>\n",
       "      <td>53.00</td>\n",
       "      <td>10</td>\n",
       "      <td>0</td>\n",
       "      <td>42.0</td>\n",
       "      <td>1.0</td>\n",
       "      <td>6.0</td>\n",
       "      <td>929.0</td>\n",
       "    </tr>\n",
       "    <tr>\n",
       "      <th>14</th>\n",
       "      <td>4159</td>\n",
       "      <td>70500</td>\n",
       "      <td>decent quick food</td>\n",
       "      <td>Taco Bell</td>\n",
       "      <td>4</td>\n",
       "      <td>M</td>\n",
       "      <td>Restaurants &amp; Gourmet</td>\n",
       "      <td>74</td>\n",
       "      <td>108.30</td>\n",
       "      <td>10</td>\n",
       "      <td>0</td>\n",
       "      <td>67.0</td>\n",
       "      <td>1.0</td>\n",
       "      <td>8.0</td>\n",
       "      <td>2621.0</td>\n",
       "    </tr>\n",
       "    <tr>\n",
       "      <th>15</th>\n",
       "      <td>4159</td>\n",
       "      <td>70500</td>\n",
       "      <td>good fast food with caution</td>\n",
       "      <td>Burger King</td>\n",
       "      <td>3</td>\n",
       "      <td>M</td>\n",
       "      <td>Restaurants &amp; Gourmet</td>\n",
       "      <td>16</td>\n",
       "      <td>49.00</td>\n",
       "      <td>10</td>\n",
       "      <td>0</td>\n",
       "      <td>15.0</td>\n",
       "      <td>1.0</td>\n",
       "      <td>8.0</td>\n",
       "      <td>2636.0</td>\n",
       "    </tr>\n",
       "    <tr>\n",
       "      <th>16</th>\n",
       "      <td>4159</td>\n",
       "      <td>70700</td>\n",
       "      <td>good fast food</td>\n",
       "      <td>Wendy's</td>\n",
       "      <td>4</td>\n",
       "      <td>M</td>\n",
       "      <td>Restaurants &amp; Gourmet</td>\n",
       "      <td>84</td>\n",
       "      <td>69.00</td>\n",
       "      <td>10</td>\n",
       "      <td>1</td>\n",
       "      <td>77.0</td>\n",
       "      <td>1.0</td>\n",
       "      <td>8.0</td>\n",
       "      <td>2635.0</td>\n",
       "    </tr>\n",
       "    <tr>\n",
       "      <th>17</th>\n",
       "      <td>4159</td>\n",
       "      <td>72500</td>\n",
       "      <td>food fast but service ain't</td>\n",
       "      <td>McDonald's</td>\n",
       "      <td>4</td>\n",
       "      <td>M</td>\n",
       "      <td>Restaurants &amp; Gourmet</td>\n",
       "      <td>41</td>\n",
       "      <td>30.74</td>\n",
       "      <td>10</td>\n",
       "      <td>0</td>\n",
       "      <td>37.0</td>\n",
       "      <td>1.0</td>\n",
       "      <td>8.0</td>\n",
       "      <td>2631.0</td>\n",
       "    </tr>\n",
       "    <tr>\n",
       "      <th>18</th>\n",
       "      <td>4159</td>\n",
       "      <td>91405</td>\n",
       "      <td>Great deal for those who watch a LOT of movies</td>\n",
       "      <td>NetFlix</td>\n",
       "      <td>4</td>\n",
       "      <td>M</td>\n",
       "      <td>Online Stores &amp; Services</td>\n",
       "      <td>45</td>\n",
       "      <td>94.54</td>\n",
       "      <td>10</td>\n",
       "      <td>1</td>\n",
       "      <td>41.0</td>\n",
       "      <td>1.0</td>\n",
       "      <td>6.0</td>\n",
       "      <td>963.0</td>\n",
       "    </tr>\n",
       "    <tr>\n",
       "      <th>19</th>\n",
       "      <td>50</td>\n",
       "      <td>21900</td>\n",
       "      <td>MTV has really gone downhill - part II</td>\n",
       "      <td>MTV</td>\n",
       "      <td>4</td>\n",
       "      <td>F</td>\n",
       "      <td>Media</td>\n",
       "      <td>39</td>\n",
       "      <td>138.00</td>\n",
       "      <td>9</td>\n",
       "      <td>0</td>\n",
       "      <td>35.0</td>\n",
       "      <td>0.0</td>\n",
       "      <td>4.0</td>\n",
       "      <td>1382.0</td>\n",
       "    </tr>\n",
       "  </tbody>\n",
       "</table>\n",
       "</div>"
      ],
      "text/plain": [
       "    userId  timestamp                                             review  \\\n",
       "0     4081      71900                                  Not always McCrap   \n",
       "1     4081      72000    I dropped the chalupa even before he told me to   \n",
       "2     4081      72000                       The Wonderful World of Wendy   \n",
       "3     4081     100399                               They actually did it   \n",
       "4     4081     100399                               Hey! Gimme some pie!   \n",
       "5     4081     100399                                    Good for sci-fi   \n",
       "6     4081     100399                                    Scary? you bet!   \n",
       "7     4081     101899                        Fox - the 4th basic channel   \n",
       "8     4081     112099                                              Amen!   \n",
       "9     4081     122899                                          mama mia!   \n",
       "10    4081     122999                         Let's go Furby hunting, Pa   \n",
       "11    4159      22304                        Good Steak for a Good Value   \n",
       "12    4159      60203  Although very simple to use, it is powerful an...   \n",
       "13    4159      70400            Good service but  too many busy signals   \n",
       "14    4159      70500                                  decent quick food   \n",
       "15    4159      70500                        good fast food with caution   \n",
       "16    4159      70700                                     good fast food   \n",
       "17    4159      72500                        food fast but service ain't   \n",
       "18    4159      91405     Great deal for those who watch a LOT of movies   \n",
       "19      50      21900             MTV has really gone downhill - part II   \n",
       "\n",
       "                                  item  helpfulness gender  \\\n",
       "0                           McDonald's            3      M   \n",
       "1                            Taco Bell            4      M   \n",
       "2                              Wendy's            4      M   \n",
       "3   South Park: Bigger, Longer & Uncut            3      M   \n",
       "4                         American Pie            3      M   \n",
       "5                               Matrix            3      M   \n",
       "6                  Blair Witch Project            3      M   \n",
       "7                                  FOX            4      M   \n",
       "8                                Dogma            3      M   \n",
       "9                         Olive Garden            3      M   \n",
       "10                  The Original Furby            3      M   \n",
       "11                  Outback Steakhouse            4      M   \n",
       "12                              Google            4      M   \n",
       "13                             NetZero            3      M   \n",
       "14                           Taco Bell            4      M   \n",
       "15                         Burger King            3      M   \n",
       "16                             Wendy's            4      M   \n",
       "17                          McDonald's            4      M   \n",
       "18                             NetFlix            4      M   \n",
       "19                                 MTV            4      F   \n",
       "\n",
       "                    category  item_id  item_price  user_city  rating  \\\n",
       "0      Restaurants & Gourmet       41       30.74          4       1   \n",
       "1      Restaurants & Gourmet       74      108.30          4       0   \n",
       "2      Restaurants & Gourmet       84       69.00          4       1   \n",
       "3                     Movies       68      143.11          4       1   \n",
       "4                     Movies        6      117.89          4       0   \n",
       "5                     Movies       40       24.51          4       0   \n",
       "6                     Movies       12       44.00          4       1   \n",
       "7                      Media       25       80.00          4       1   \n",
       "8                     Movies       22       87.59          4       1   \n",
       "9      Restaurants & Gourmet       49       32.00          4       1   \n",
       "10             Kids & Family       78       22.38          4       0   \n",
       "11     Restaurants & Gourmet       50       25.00         10       1   \n",
       "12  Online Stores & Services       32      100.62         10       1   \n",
       "13  Online Stores & Services       46       53.00         10       0   \n",
       "14     Restaurants & Gourmet       74      108.30         10       0   \n",
       "15     Restaurants & Gourmet       16       49.00         10       0   \n",
       "16     Restaurants & Gourmet       84       69.00         10       1   \n",
       "17     Restaurants & Gourmet       41       30.74         10       0   \n",
       "18  Online Stores & Services       45       94.54         10       1   \n",
       "19                     Media       39      138.00          9       0   \n",
       "\n",
       "    item_code  gender_code  category_code  review_code  \n",
       "0        37.0          1.0            8.0       1618.0  \n",
       "1        67.0          1.0            8.0       1125.0  \n",
       "2        77.0          1.0            8.0       2185.0  \n",
       "3        61.0          1.0            5.0       2243.0  \n",
       "4         5.0          1.0            5.0       1033.0  \n",
       "5        36.0          1.0            5.0        925.0  \n",
       "6        11.0          1.0            5.0       1854.0  \n",
       "7        23.0          1.0            4.0        795.0  \n",
       "8        21.0          1.0            5.0        262.0  \n",
       "9        44.0          1.0            8.0       2643.0  \n",
       "10       71.0          1.0            3.0       1342.0  \n",
       "11       45.0          1.0            8.0        913.0  \n",
       "12       29.0          1.0            6.0        250.0  \n",
       "13       42.0          1.0            6.0        929.0  \n",
       "14       67.0          1.0            8.0       2621.0  \n",
       "15       15.0          1.0            8.0       2636.0  \n",
       "16       77.0          1.0            8.0       2635.0  \n",
       "17       37.0          1.0            8.0       2631.0  \n",
       "18       41.0          1.0            6.0        963.0  \n",
       "19       35.0          0.0            4.0       1382.0  "
      ]
     },
     "execution_count": 5,
     "metadata": {},
     "output_type": "execute_result"
    }
   ],
   "source": [
    "#label encoding for object features - converting categorical to numerical\n",
    "from sklearn.preprocessing import OrdinalEncoder\n",
    "\n",
    "ord_enc = OrdinalEncoder()\n",
    "df[\"item_code\"] = ord_enc.fit_transform(df[[\"item\"]])\n",
    "df[\"gender_code\"] = ord_enc.fit_transform(df[[\"gender\"]])\n",
    "df[\"category_code\"] = ord_enc.fit_transform(df[[\"category\"]])\n",
    "df[\"review_code\"] = ord_enc.fit_transform(df[[\"review\"]])\n",
    "df.head(20)"
   ]
  },
  {
   "cell_type": "code",
   "execution_count": 6,
   "id": "c5f1755b",
   "metadata": {},
   "outputs": [
    {
     "data": {
      "text/plain": [
       "1    1718\n",
       "0     967\n",
       "Name: rating, dtype: int64"
      ]
     },
     "execution_count": 6,
     "metadata": {},
     "output_type": "execute_result"
    }
   ],
   "source": [
    "#Identify and check the value counts/classes of the target variable\n",
    "\n",
    "df[\"rating\"].value_counts() "
   ]
  },
  {
   "cell_type": "code",
   "execution_count": 7,
   "id": "0f0259a9",
   "metadata": {},
   "outputs": [
    {
     "data": {
      "text/plain": [
       "<Axes: xlabel='rating', ylabel='count'>"
      ]
     },
     "execution_count": 7,
     "metadata": {},
     "output_type": "execute_result"
    },
    {
     "data": {
      "image/png": "[encoded data removed]",
      "text/plain": [
       "<Figure size 640x480 with 1 Axes>"
      ]
     },
     "metadata": {},
     "output_type": "display_data"
    }
   ],
   "source": [
    "#Plot distribution of target variable - rating\n",
    "sns.countplot(data = df, x = \"rating\")"
   ]
  },
  {
   "cell_type": "markdown",
   "id": "69d209f7",
   "metadata": {},
   "source": [
    "### Correlation between features"
   ]
  },
  {
   "cell_type": "code",
   "execution_count": 8,
   "id": "c28b5e9e",
   "metadata": {},
   "outputs": [
    {
     "data": {
      "text/html": [
       "<div>\n",
       "<style scoped>\n",
       "    .dataframe tbody tr th:only-of-type {\n",
       "        vertical-align: middle;\n",
       "    }\n",
       "\n",
       "    .dataframe tbody tr th {\n",
       "        vertical-align: top;\n",
       "    }\n",
       "\n",
       "    .dataframe thead th {\n",
       "        text-align: right;\n",
       "    }\n",
       "</style>\n",
       "<table border=\"1\" class=\"dataframe\">\n",
       "  <thead>\n",
       "    <tr style=\"text-align: right;\">\n",
       "      <th></th>\n",
       "      <th>userId</th>\n",
       "      <th>timestamp</th>\n",
       "      <th>helpfulness</th>\n",
       "      <th>item_id</th>\n",
       "      <th>item_price</th>\n",
       "      <th>user_city</th>\n",
       "      <th>rating</th>\n",
       "      <th>item_code</th>\n",
       "      <th>gender_code</th>\n",
       "      <th>category_code</th>\n",
       "      <th>review_code</th>\n",
       "    </tr>\n",
       "  </thead>\n",
       "  <tbody>\n",
       "    <tr>\n",
       "      <th>userId</th>\n",
       "      <td>1.000000</td>\n",
       "      <td>-0.069176</td>\n",
       "      <td>-0.166136</td>\n",
       "      <td>-0.005549</td>\n",
       "      <td>0.024576</td>\n",
       "      <td>-0.030031</td>\n",
       "      <td>0.066444</td>\n",
       "      <td>-0.005513</td>\n",
       "      <td>-0.058324</td>\n",
       "      <td>-0.041362</td>\n",
       "      <td>0.007139</td>\n",
       "    </tr>\n",
       "    <tr>\n",
       "      <th>timestamp</th>\n",
       "      <td>-0.069176</td>\n",
       "      <td>1.000000</td>\n",
       "      <td>0.014179</td>\n",
       "      <td>-0.004452</td>\n",
       "      <td>0.010979</td>\n",
       "      <td>-0.014934</td>\n",
       "      <td>-0.009739</td>\n",
       "      <td>-0.003543</td>\n",
       "      <td>-0.003367</td>\n",
       "      <td>0.015009</td>\n",
       "      <td>0.007029</td>\n",
       "    </tr>\n",
       "    <tr>\n",
       "      <th>helpfulness</th>\n",
       "      <td>-0.166136</td>\n",
       "      <td>0.014179</td>\n",
       "      <td>1.000000</td>\n",
       "      <td>-0.019882</td>\n",
       "      <td>0.004112</td>\n",
       "      <td>0.012086</td>\n",
       "      <td>-0.010622</td>\n",
       "      <td>-0.020433</td>\n",
       "      <td>0.075947</td>\n",
       "      <td>-0.013408</td>\n",
       "      <td>-0.028259</td>\n",
       "    </tr>\n",
       "    <tr>\n",
       "      <th>item_id</th>\n",
       "      <td>-0.005549</td>\n",
       "      <td>-0.004452</td>\n",
       "      <td>-0.019882</td>\n",
       "      <td>1.000000</td>\n",
       "      <td>-0.054450</td>\n",
       "      <td>-0.005576</td>\n",
       "      <td>0.057107</td>\n",
       "      <td>0.999765</td>\n",
       "      <td>0.002370</td>\n",
       "      <td>-0.045268</td>\n",
       "      <td>0.163544</td>\n",
       "    </tr>\n",
       "    <tr>\n",
       "      <th>item_price</th>\n",
       "      <td>0.024576</td>\n",
       "      <td>0.010979</td>\n",
       "      <td>0.004112</td>\n",
       "      <td>-0.054450</td>\n",
       "      <td>1.000000</td>\n",
       "      <td>-0.023427</td>\n",
       "      <td>0.026062</td>\n",
       "      <td>-0.049885</td>\n",
       "      <td>-0.040596</td>\n",
       "      <td>-0.115571</td>\n",
       "      <td>-0.041421</td>\n",
       "    </tr>\n",
       "    <tr>\n",
       "      <th>user_city</th>\n",
       "      <td>-0.030031</td>\n",
       "      <td>-0.014934</td>\n",
       "      <td>0.012086</td>\n",
       "      <td>-0.005576</td>\n",
       "      <td>-0.023427</td>\n",
       "      <td>1.000000</td>\n",
       "      <td>-0.034866</td>\n",
       "      <td>-0.005220</td>\n",
       "      <td>-0.065638</td>\n",
       "      <td>0.008017</td>\n",
       "      <td>0.045626</td>\n",
       "    </tr>\n",
       "    <tr>\n",
       "      <th>rating</th>\n",
       "      <td>0.066444</td>\n",
       "      <td>-0.009739</td>\n",
       "      <td>-0.010622</td>\n",
       "      <td>0.057107</td>\n",
       "      <td>0.026062</td>\n",
       "      <td>-0.034866</td>\n",
       "      <td>1.000000</td>\n",
       "      <td>0.057793</td>\n",
       "      <td>-0.022169</td>\n",
       "      <td>-0.142479</td>\n",
       "      <td>-0.041756</td>\n",
       "    </tr>\n",
       "    <tr>\n",
       "      <th>item_code</th>\n",
       "      <td>-0.005513</td>\n",
       "      <td>-0.003543</td>\n",
       "      <td>-0.020433</td>\n",
       "      <td>0.999765</td>\n",
       "      <td>-0.049885</td>\n",
       "      <td>-0.005220</td>\n",
       "      <td>0.057793</td>\n",
       "      <td>1.000000</td>\n",
       "      <td>0.001925</td>\n",
       "      <td>-0.045988</td>\n",
       "      <td>0.163090</td>\n",
       "    </tr>\n",
       "    <tr>\n",
       "      <th>gender_code</th>\n",
       "      <td>-0.058324</td>\n",
       "      <td>-0.003367</td>\n",
       "      <td>0.075947</td>\n",
       "      <td>0.002370</td>\n",
       "      <td>-0.040596</td>\n",
       "      <td>-0.065638</td>\n",
       "      <td>-0.022169</td>\n",
       "      <td>0.001925</td>\n",
       "      <td>1.000000</td>\n",
       "      <td>0.022549</td>\n",
       "      <td>-0.037884</td>\n",
       "    </tr>\n",
       "    <tr>\n",
       "      <th>category_code</th>\n",
       "      <td>-0.041362</td>\n",
       "      <td>0.015009</td>\n",
       "      <td>-0.013408</td>\n",
       "      <td>-0.045268</td>\n",
       "      <td>-0.115571</td>\n",
       "      <td>0.008017</td>\n",
       "      <td>-0.142479</td>\n",
       "      <td>-0.045988</td>\n",
       "      <td>0.022549</td>\n",
       "      <td>1.000000</td>\n",
       "      <td>0.001970</td>\n",
       "    </tr>\n",
       "    <tr>\n",
       "      <th>review_code</th>\n",
       "      <td>0.007139</td>\n",
       "      <td>0.007029</td>\n",
       "      <td>-0.028259</td>\n",
       "      <td>0.163544</td>\n",
       "      <td>-0.041421</td>\n",
       "      <td>0.045626</td>\n",
       "      <td>-0.041756</td>\n",
       "      <td>0.163090</td>\n",
       "      <td>-0.037884</td>\n",
       "      <td>0.001970</td>\n",
       "      <td>1.000000</td>\n",
       "    </tr>\n",
       "  </tbody>\n",
       "</table>\n",
       "</div>"
      ],
      "text/plain": [
       "                 userId  timestamp  helpfulness   item_id  item_price  \\\n",
       "userId         1.000000  -0.069176    -0.166136 -0.005549    0.024576   \n",
       "timestamp     -0.069176   1.000000     0.014179 -0.004452    0.010979   \n",
       "helpfulness   -0.166136   0.014179     1.000000 -0.019882    0.004112   \n",
       "item_id       -0.005549  -0.004452    -0.019882  1.000000   -0.054450   \n",
       "item_price     0.024576   0.010979     0.004112 -0.054450    1.000000   \n",
       "user_city     -0.030031  -0.014934     0.012086 -0.005576   -0.023427   \n",
       "rating         0.066444  -0.009739    -0.010622  0.057107    0.026062   \n",
       "item_code     -0.005513  -0.003543    -0.020433  0.999765   -0.049885   \n",
       "gender_code   -0.058324  -0.003367     0.075947  0.002370   -0.040596   \n",
       "category_code -0.041362   0.015009    -0.013408 -0.045268   -0.115571   \n",
       "review_code    0.007139   0.007029    -0.028259  0.163544   -0.041421   \n",
       "\n",
       "               user_city    rating  item_code  gender_code  category_code  \\\n",
       "userId         -0.030031  0.066444  -0.005513    -0.058324      -0.041362   \n",
       "timestamp      -0.014934 -0.009739  -0.003543    -0.003367       0.015009   \n",
       "helpfulness     0.012086 -0.010622  -0.020433     0.075947      -0.013408   \n",
       "item_id        -0.005576  0.057107   0.999765     0.002370      -0.045268   \n",
       "item_price     -0.023427  0.026062  -0.049885    -0.040596      -0.115571   \n",
       "user_city       1.000000 -0.034866  -0.005220    -0.065638       0.008017   \n",
       "rating         -0.034866  1.000000   0.057793    -0.022169      -0.142479   \n",
       "item_code      -0.005220  0.057793   1.000000     0.001925      -0.045988   \n",
       "gender_code    -0.065638 -0.022169   0.001925     1.000000       0.022549   \n",
       "category_code   0.008017 -0.142479  -0.045988     0.022549       1.000000   \n",
       "review_code     0.045626 -0.041756   0.163090    -0.037884       0.001970   \n",
       "\n",
       "               review_code  \n",
       "userId            0.007139  \n",
       "timestamp         0.007029  \n",
       "helpfulness      -0.028259  \n",
       "item_id           0.163544  \n",
       "item_price       -0.041421  \n",
       "user_city         0.045626  \n",
       "rating           -0.041756  \n",
       "item_code         0.163090  \n",
       "gender_code      -0.037884  \n",
       "category_code     0.001970  \n",
       "review_code       1.000000  "
      ]
     },
     "execution_count": 8,
     "metadata": {},
     "output_type": "execute_result"
    }
   ],
   "source": [
    "#get correlation between features\n",
    "corr_matrix = df.corr()\n",
    "corr_matrix"
   ]
  },
  {
   "cell_type": "code",
   "execution_count": 9,
   "id": "8eec692c",
   "metadata": {},
   "outputs": [
    {
     "data": {
      "text/plain": [
       "<Axes: >"
      ]
     },
     "execution_count": 9,
     "metadata": {},
     "output_type": "execute_result"
    },
    {
     "data": {
      "image/png": "[encoded data removed]",
      "text/plain": [
       "<Figure size 640x480 with 2 Axes>"
      ]
     },
     "metadata": {},
     "output_type": "display_data"
    }
   ],
   "source": [
    "#Visualize correlation using heatmap\n",
    "sns.heatmap(corr_matrix,annot = True, cmap = 'coolwarm', fmt='.2f' )"
   ]
  },
  {
   "cell_type": "markdown",
   "id": "710cc57c",
   "metadata": {},
   "source": [
    "### Split Training and Test Data\n",
    "* Training Data 80%\n",
    "* Test Data 20%\n",
    "\n",
    "<br>\n",
    "Based on previous portfolio, the case with more training data yielded better and more accurate prediction results on the test data."
   ]
  },
  {
   "cell_type": "code",
   "execution_count": 10,
   "id": "4db531c2",
   "metadata": {},
   "outputs": [
    {
     "name": "stdout",
     "output_type": "stream",
     "text": [
      "(2148, 15)\n",
      "(537, 15)\n"
     ]
    }
   ],
   "source": [
    "# Split data into training(80%) and testing data (20%) and use random_state=142\n",
    "train, test = train_test_split(df, test_size=0.2, random_state=142)\n",
    "print(train.shape)\n",
    "print(test.shape)"
   ]
  },
  {
   "cell_type": "code",
   "execution_count": 11,
   "id": "6808cee6",
   "metadata": {},
   "outputs": [
    {
     "name": "stdout",
     "output_type": "stream",
     "text": [
      "<class 'pandas.core.frame.DataFrame'>\n",
      "RangeIndex: 2685 entries, 0 to 2684\n",
      "Data columns (total 15 columns):\n",
      " #   Column         Non-Null Count  Dtype  \n",
      "---  ------         --------------  -----  \n",
      " 0   userId         2685 non-null   int64  \n",
      " 1   timestamp      2685 non-null   int64  \n",
      " 2   review         2685 non-null   object \n",
      " 3   item           2685 non-null   object \n",
      " 4   helpfulness    2685 non-null   int64  \n",
      " 5   gender         2685 non-null   object \n",
      " 6   category       2685 non-null   object \n",
      " 7   item_id        2685 non-null   int64  \n",
      " 8   item_price     2685 non-null   float64\n",
      " 9   user_city      2685 non-null   int64  \n",
      " 10  rating         2685 non-null   int64  \n",
      " 11  item_code      2685 non-null   float64\n",
      " 12  gender_code    2685 non-null   float64\n",
      " 13  category_code  2685 non-null   float64\n",
      " 14  review_code    2685 non-null   float64\n",
      "dtypes: float64(5), int64(6), object(4)\n",
      "memory usage: 314.8+ KB\n"
     ]
    }
   ],
   "source": [
    "df.info()"
   ]
  },
  {
   "cell_type": "code",
   "execution_count": 12,
   "id": "e1c0753b",
   "metadata": {},
   "outputs": [
    {
     "name": "stdout",
     "output_type": "stream",
     "text": [
      "x_train shape:  (2148, 8)\n",
      "y_train shape:  (2148,)\n",
      "x_test shape:  (537, 8)\n",
      "y_test shape:  (537,)\n",
      "      helpfulness  item_id  item_price  user_city  item_code  gender_code  \\\n",
      "1207            4       67       71.52          2       60.0          1.0   \n",
      "0               3       41       30.74          4       37.0          1.0   \n",
      "1731            3       29       67.00         38       27.0          0.0   \n",
      "1834            4       79       27.00         24       72.0          1.0   \n",
      "1703            4       12       44.00          4       11.0          1.0   \n",
      "\n",
      "      category_code  review_code  \n",
      "1207            1.0       1946.0  \n",
      "0               8.0       1618.0  \n",
      "1731            5.0        860.0  \n",
      "1834            1.0       2516.0  \n",
      "1703            5.0        653.0  \n",
      "1207    1\n",
      "0       1\n",
      "1731    1\n",
      "1834    1\n",
      "1703    0\n",
      "Name: rating, dtype: int64\n"
     ]
    }
   ],
   "source": [
    "#Define dataframes of training and testing datasets\n",
    "x_train = train.drop(['userId','timestamp','rating', 'review', 'item', 'gender', 'category'], axis=1)\n",
    "y_train = train['rating']\n",
    "x_test = test.drop(['userId','timestamp', 'rating',  'review', 'item', 'gender', 'category'], axis=1)\n",
    "y_test = test['rating']\n",
    "\n",
    "print(\"x_train shape: \", x_train.shape)\n",
    "print(\"y_train shape: \", y_train.shape)\n",
    "print(\"x_test shape: \", x_test.shape)\n",
    "print(\"y_test shape: \", y_test.shape)\n",
    "print(x_train.head())\n",
    "print(y_train.head())"
   ]
  },
  {
   "cell_type": "markdown",
   "id": "04d9e644",
   "metadata": {},
   "source": [
    "## Logistic Regression\n",
    "\n",
    "Logistic regression is commonly used for prediction and classification problems. It is applied to predict a categorical dependent variable."
   ]
  },
  {
   "cell_type": "code",
   "execution_count": 13,
   "id": "820c4d1c",
   "metadata": {},
   "outputs": [],
   "source": [
    "#set up logistic regression model\n",
    "model = LogisticRegression()"
   ]
  },
  {
   "cell_type": "code",
   "execution_count": 14,
   "id": "661ec810",
   "metadata": {},
   "outputs": [
    {
     "data": {
      "text/html": [
       "<style>#sk-container-id-1 {color: black;background-color: white;}#sk-container-id-1 pre{padding: 0;}#sk-container-id-1 div.sk-toggleable {background-color: white;}#sk-container-id-1 label.sk-toggleable__label {cursor: pointer;display: block;width: 100%;margin-bottom: 0;padding: 0.3em;box-sizing: border-box;text-align: center;}#sk-container-id-1 label.sk-toggleable__label-arrow:before {content: \"▸\";float: left;margin-right: 0.25em;color: #696969;}#sk-container-id-1 label.sk-toggleable__label-arrow:hover:before {color: black;}#sk-container-id-1 div.sk-estimator:hover label.sk-toggleable__label-arrow:before {color: black;}#sk-container-id-1 div.sk-toggleable__content {max-height: 0;max-width: 0;overflow: hidden;text-align: left;background-color: #f0f8ff;}#sk-container-id-1 div.sk-toggleable__content pre {margin: 0.2em;color: black;border-radius: 0.25em;background-color: #f0f8ff;}#sk-container-id-1 input.sk-toggleable__control:checked~div.sk-toggleable__content {max-height: 200px;max-width: 100%;overflow: auto;}#sk-container-id-1 input.sk-toggleable__control:checked~label.sk-toggleable__label-arrow:before {content: \"▾\";}#sk-container-id-1 div.sk-estimator input.sk-toggleable__control:checked~label.sk-toggleable__label {background-color: #d4ebff;}#sk-container-id-1 div.sk-label input.sk-toggleable__control:checked~label.sk-toggleable__label {background-color: #d4ebff;}#sk-container-id-1 input.sk-hidden--visually {border: 0;clip: rect(1px 1px 1px 1px);clip: rect(1px, 1px, 1px, 1px);height: 1px;margin: -1px;overflow: hidden;padding: 0;position: absolute;width: 1px;}#sk-container-id-1 div.sk-estimator {font-family: monospace;background-color: #f0f8ff;border: 1px dotted black;border-radius: 0.25em;box-sizing: border-box;margin-bottom: 0.5em;}#sk-container-id-1 div.sk-estimator:hover {background-color: #d4ebff;}#sk-container-id-1 div.sk-parallel-item::after {content: \"\";width: 100%;border-bottom: 1px solid gray;flex-grow: 1;}#sk-container-id-1 div.sk-label:hover label.sk-toggleable__label {background-color: #d4ebff;}#sk-container-id-1 div.sk-serial::before {content: \"\";position: absolute;border-left: 1px solid gray;box-sizing: border-box;top: 0;bottom: 0;left: 50%;z-index: 0;}#sk-container-id-1 div.sk-serial {display: flex;flex-direction: column;align-items: center;background-color: white;padding-right: 0.2em;padding-left: 0.2em;position: relative;}#sk-container-id-1 div.sk-item {position: relative;z-index: 1;}#sk-container-id-1 div.sk-parallel {display: flex;align-items: stretch;justify-content: center;background-color: white;position: relative;}#sk-container-id-1 div.sk-item::before, #sk-container-id-1 div.sk-parallel-item::before {content: \"\";position: absolute;border-left: 1px solid gray;box-sizing: border-box;top: 0;bottom: 0;left: 50%;z-index: -1;}#sk-container-id-1 div.sk-parallel-item {display: flex;flex-direction: column;z-index: 1;position: relative;background-color: white;}#sk-container-id-1 div.sk-parallel-item:first-child::after {align-self: flex-end;width: 50%;}#sk-container-id-1 div.sk-parallel-item:last-child::after {align-self: flex-start;width: 50%;}#sk-container-id-1 div.sk-parallel-item:only-child::after {width: 0;}#sk-container-id-1 div.sk-dashed-wrapped {border: 1px dashed gray;margin: 0 0.4em 0.5em 0.4em;box-sizing: border-box;padding-bottom: 0.4em;background-color: white;}#sk-container-id-1 div.sk-label label {font-family: monospace;font-weight: bold;display: inline-block;line-height: 1.2em;}#sk-container-id-1 div.sk-label-container {text-align: center;}#sk-container-id-1 div.sk-container {/* jupyter's `normalize.less` sets `[hidden] { display: none; }` but bootstrap.min.css set `[hidden] { display: none !important; }` so we also need the `!important` here to be able to override the default hidden behavior on the sphinx rendered scikit-learn.org. See: https://github.com/scikit-learn/scikit-learn/issues/21755 */display: inline-block !important;position: relative;}#sk-container-id-1 div.sk-text-repr-fallback {display: none;}</style><div id=\"sk-container-id-1\" class=\"sk-top-container\"><div class=\"sk-text-repr-fallback\"><pre>LogisticRegression()</pre><b>In a Jupyter environment, please rerun this cell to show the HTML representation or trust the notebook. <br />On GitHub, the HTML representation is unable to render, please try loading this page with nbviewer.org.</b></div><div class=\"sk-container\" hidden><div class=\"sk-item\"><div class=\"sk-estimator sk-toggleable\"><input class=\"sk-toggleable__control sk-hidden--visually\" id=\"sk-estimator-id-1\" type=\"checkbox\" checked><label for=\"sk-estimator-id-1\" class=\"sk-toggleable__label sk-toggleable__label-arrow\">LogisticRegression</label><div class=\"sk-toggleable__content\"><pre>LogisticRegression()</pre></div></div></div></div></div>"
      ],
      "text/plain": [
       "LogisticRegression()"
      ]
     },
     "execution_count": 14,
     "metadata": {},
     "output_type": "execute_result"
    }
   ],
   "source": [
    "model.fit(x_train, y_train)"
   ]
  },
  {
   "cell_type": "code",
   "execution_count": 15,
   "id": "82bb21f8",
   "metadata": {},
   "outputs": [],
   "source": [
    "# Doing predictions on train and test set\n",
    "y_hat_train = model.predict(x_train)\n",
    "y_hat_test = model.predict(x_test)"
   ]
  },
  {
   "cell_type": "markdown",
   "id": "d2dfa513",
   "metadata": {},
   "source": [
    "### Logistic Regression - Evaluation\n",
    "\n",
    "To evaluate a classification model we want to look at how many cases were correctly classified and how many\n",
    "were in error.  In this case we have two outcomes - 0 or 1 for rating."
   ]
  },
  {
   "cell_type": "code",
   "execution_count": 16,
   "id": "b8ea8b08",
   "metadata": {},
   "outputs": [
    {
     "name": "stdout",
     "output_type": "stream",
     "text": [
      "Accuracy score on training set:  0.6396648044692738\n",
      "Accuracy score on testing set:  0.6499068901303539\n"
     ]
    }
   ],
   "source": [
    "# Evaluate the performance of your trained model\n",
    "print(\"Accuracy score on training set: \", accuracy_score(y_train, y_hat_train))\n",
    "print(\"Accuracy score on testing set: \", accuracy_score(y_test, y_hat_test))"
   ]
  },
  {
   "cell_type": "code",
   "execution_count": 17,
   "id": "cb2772bd",
   "metadata": {},
   "outputs": [
    {
     "name": "stdout",
     "output_type": "stream",
     "text": [
      "Confusion matrix on test set: \n",
      "[[ 10 168]\n",
      " [ 20 339]]\n"
     ]
    }
   ],
   "source": [
    "# Checking confusion matrix\n",
    "print(\"Confusion matrix on test set: \")\n",
    "print(confusion_matrix(y_test, y_hat_test))"
   ]
  },
  {
   "cell_type": "code",
   "execution_count": 18,
   "id": "24f36c15",
   "metadata": {},
   "outputs": [
    {
     "name": "stdout",
     "output_type": "stream",
     "text": [
      "Confusion matrix on train set: \n",
      "[[  60  729]\n",
      " [  45 1314]]\n"
     ]
    }
   ],
   "source": [
    "print(\"Confusion matrix on train set: \")\n",
    "print(confusion_matrix(y_train, y_hat_train))"
   ]
  },
  {
   "cell_type": "markdown",
   "id": "e0251573",
   "metadata": {},
   "source": [
    "The confusion matrix on both the train test and test set is not good as it predicts more False Positives than True Positives which can be misleading to customers and also potentially ruin the creduibility of the quality of the products. This can be attributed as well to the accuracy score of the logistic regression model where the test and training data sets yielded 63-64% accuracy which is not preferred. "
   ]
  },
  {
   "cell_type": "markdown",
   "id": "f765fdf5",
   "metadata": {},
   "source": [
    "### Logistic Regression - Feature Selection"
   ]
  },
  {
   "cell_type": "markdown",
   "id": "b0fecbb1",
   "metadata": {},
   "source": [
    "The initial model used all of the features but a better model can be built by omitting some variables. By using the sklearn Recursive Feature Estimation or RFE function, it removed the features one by one and evaluates the model each time. It them selects the best model for the target number of features. In this feature selection, we are targeting 3 features to be selected. "
   ]
  },
  {
   "cell_type": "code",
   "execution_count": 19,
   "id": "8db185c9",
   "metadata": {},
   "outputs": [
    {
     "name": "stdout",
     "output_type": "stream",
     "text": [
      "[False False False False  True  True  True False]\n"
     ]
    }
   ],
   "source": [
    "# creating RFE object\n",
    "lr_model = LogisticRegression()\n",
    "rfe = RFE(estimator=lr_model, n_features_to_select=3)\n",
    "rfe_model = rfe.fit(x_train, y_train)\n",
    "print(rfe_model.support_)"
   ]
  },
  {
   "cell_type": "code",
   "execution_count": 20,
   "id": "d2ae0874",
   "metadata": {},
   "outputs": [
    {
     "data": {
      "text/html": [
       "<div>\n",
       "<style scoped>\n",
       "    .dataframe tbody tr th:only-of-type {\n",
       "        vertical-align: middle;\n",
       "    }\n",
       "\n",
       "    .dataframe tbody tr th {\n",
       "        vertical-align: top;\n",
       "    }\n",
       "\n",
       "    .dataframe thead th {\n",
       "        text-align: right;\n",
       "    }\n",
       "</style>\n",
       "<table border=\"1\" class=\"dataframe\">\n",
       "  <thead>\n",
       "    <tr style=\"text-align: right;\">\n",
       "      <th></th>\n",
       "      <th>helpfulness</th>\n",
       "      <th>item_id</th>\n",
       "      <th>item_price</th>\n",
       "      <th>user_city</th>\n",
       "      <th>item_code</th>\n",
       "      <th>gender_code</th>\n",
       "      <th>category_code</th>\n",
       "      <th>review_code</th>\n",
       "    </tr>\n",
       "  </thead>\n",
       "  <tbody>\n",
       "    <tr>\n",
       "      <th>count</th>\n",
       "      <td>2148.000000</td>\n",
       "      <td>2148.000000</td>\n",
       "      <td>2148.000000</td>\n",
       "      <td>2148.000000</td>\n",
       "      <td>2148.000000</td>\n",
       "      <td>2148.000000</td>\n",
       "      <td>2148.000000</td>\n",
       "      <td>2148.000000</td>\n",
       "    </tr>\n",
       "    <tr>\n",
       "      <th>mean</th>\n",
       "      <td>3.909683</td>\n",
       "      <td>42.879423</td>\n",
       "      <td>83.380047</td>\n",
       "      <td>19.489292</td>\n",
       "      <td>38.988827</td>\n",
       "      <td>0.522346</td>\n",
       "      <td>5.018622</td>\n",
       "      <td>1341.420391</td>\n",
       "    </tr>\n",
       "    <tr>\n",
       "      <th>std</th>\n",
       "      <td>0.286702</td>\n",
       "      <td>26.779402</td>\n",
       "      <td>41.980255</td>\n",
       "      <td>11.417772</td>\n",
       "      <td>24.339756</td>\n",
       "      <td>0.499617</td>\n",
       "      <td>1.734772</td>\n",
       "      <td>773.616181</td>\n",
       "    </tr>\n",
       "    <tr>\n",
       "      <th>min</th>\n",
       "      <td>3.000000</td>\n",
       "      <td>0.000000</td>\n",
       "      <td>12.000000</td>\n",
       "      <td>0.000000</td>\n",
       "      <td>0.000000</td>\n",
       "      <td>0.000000</td>\n",
       "      <td>0.000000</td>\n",
       "      <td>0.000000</td>\n",
       "    </tr>\n",
       "    <tr>\n",
       "      <th>25%</th>\n",
       "      <td>4.000000</td>\n",
       "      <td>19.750000</td>\n",
       "      <td>49.000000</td>\n",
       "      <td>9.000000</td>\n",
       "      <td>18.750000</td>\n",
       "      <td>0.000000</td>\n",
       "      <td>5.000000</td>\n",
       "      <td>677.750000</td>\n",
       "    </tr>\n",
       "    <tr>\n",
       "      <th>50%</th>\n",
       "      <td>4.000000</td>\n",
       "      <td>42.000000</td>\n",
       "      <td>73.650000</td>\n",
       "      <td>19.000000</td>\n",
       "      <td>38.000000</td>\n",
       "      <td>1.000000</td>\n",
       "      <td>5.000000</td>\n",
       "      <td>1342.000000</td>\n",
       "    </tr>\n",
       "    <tr>\n",
       "      <th>75%</th>\n",
       "      <td>4.000000</td>\n",
       "      <td>66.000000</td>\n",
       "      <td>129.820000</td>\n",
       "      <td>29.000000</td>\n",
       "      <td>59.000000</td>\n",
       "      <td>1.000000</td>\n",
       "      <td>6.000000</td>\n",
       "      <td>2013.500000</td>\n",
       "    </tr>\n",
       "    <tr>\n",
       "      <th>max</th>\n",
       "      <td>4.000000</td>\n",
       "      <td>88.000000</td>\n",
       "      <td>149.000000</td>\n",
       "      <td>39.000000</td>\n",
       "      <td>81.000000</td>\n",
       "      <td>1.000000</td>\n",
       "      <td>8.000000</td>\n",
       "      <td>2673.000000</td>\n",
       "    </tr>\n",
       "  </tbody>\n",
       "</table>\n",
       "</div>"
      ],
      "text/plain": [
       "       helpfulness      item_id   item_price    user_city    item_code  \\\n",
       "count  2148.000000  2148.000000  2148.000000  2148.000000  2148.000000   \n",
       "mean      3.909683    42.879423    83.380047    19.489292    38.988827   \n",
       "std       0.286702    26.779402    41.980255    11.417772    24.339756   \n",
       "min       3.000000     0.000000    12.000000     0.000000     0.000000   \n",
       "25%       4.000000    19.750000    49.000000     9.000000    18.750000   \n",
       "50%       4.000000    42.000000    73.650000    19.000000    38.000000   \n",
       "75%       4.000000    66.000000   129.820000    29.000000    59.000000   \n",
       "max       4.000000    88.000000   149.000000    39.000000    81.000000   \n",
       "\n",
       "       gender_code  category_code  review_code  \n",
       "count  2148.000000    2148.000000  2148.000000  \n",
       "mean      0.522346       5.018622  1341.420391  \n",
       "std       0.499617       1.734772   773.616181  \n",
       "min       0.000000       0.000000     0.000000  \n",
       "25%       0.000000       5.000000   677.750000  \n",
       "50%       1.000000       5.000000  1342.000000  \n",
       "75%       1.000000       6.000000  2013.500000  \n",
       "max       1.000000       8.000000  2673.000000  "
      ]
     },
     "execution_count": 20,
     "metadata": {},
     "output_type": "execute_result"
    }
   ],
   "source": [
    "#Show dataframe identify which ones are the important features\n",
    "x_train.describe()"
   ]
  },
  {
   "cell_type": "markdown",
   "id": "b15fca06",
   "metadata": {},
   "source": [
    "Based on the rfe model above, the 3 important features are <b> item_code, gender_code, and category_code. </b> We then perform logistic regression again with only these 3 features to see if the model will yield a higher accuracy this way. "
   ]
  },
  {
   "cell_type": "code",
   "execution_count": 21,
   "id": "184708ad",
   "metadata": {},
   "outputs": [
    {
     "name": "stdout",
     "output_type": "stream",
     "text": [
      "(2148, 15)\n",
      "(537, 15)\n"
     ]
    }
   ],
   "source": [
    "#Define train and test dataframes\n",
    "train1, test1 = train_test_split(df, test_size=0.2, random_state=142)\n",
    "print(train1.shape)\n",
    "print(test1.shape)"
   ]
  },
  {
   "cell_type": "code",
   "execution_count": 22,
   "id": "27bdbf84",
   "metadata": {},
   "outputs": [
    {
     "name": "stdout",
     "output_type": "stream",
     "text": [
      "x_train1 shape:  (2148, 3)\n",
      "y_train1 shape:  (2148,)\n",
      "x_test1 shape:  (537, 3)\n",
      "y_test1 shape:  (537,)\n",
      "      item_code  gender_code  category_code\n",
      "1207       60.0          1.0            1.0\n",
      "0          37.0          1.0            8.0\n",
      "1731       27.0          0.0            5.0\n",
      "1834       72.0          1.0            1.0\n",
      "1703       11.0          1.0            5.0\n",
      "1207    1\n",
      "0       1\n",
      "1731    1\n",
      "1834    1\n",
      "1703    0\n",
      "Name: rating, dtype: int64\n"
     ]
    }
   ],
   "source": [
    "#Define dataframes of training and testing datasets with top 3 important features, dropping features that arent needed\n",
    "x_train1 = train1.drop(['userId','timestamp','rating', 'review', 'item', 'gender', 'category', 'helpfulness', 'item_id','item_price','user_city','review_code'], axis=1)\n",
    "y_train1 = train1['rating']\n",
    "x_test1 = test1.drop(['userId','timestamp', 'rating',  'review', 'item', 'gender', 'category', 'helpfulness', 'item_id','item_price','user_city','review_code'], axis=1)\n",
    "y_test1 = test1['rating']\n",
    "\n",
    "print(\"x_train1 shape: \", x_train1.shape)\n",
    "print(\"y_train1 shape: \", y_train1.shape)\n",
    "print(\"x_test1 shape: \", x_test1.shape)\n",
    "print(\"y_test1 shape: \", y_test1.shape)\n",
    "print(x_train1.head())\n",
    "print(y_train1.head())\n",
    "\n",
    "rfe_model = rfe.fit(x_train1, y_train1)"
   ]
  },
  {
   "cell_type": "code",
   "execution_count": 23,
   "id": "12f5b527",
   "metadata": {},
   "outputs": [
    {
     "name": "stdout",
     "output_type": "stream",
     "text": [
      "accuracy score on test set:  0.6554934823091247\n"
     ]
    }
   ],
   "source": [
    "# doing evaluation\n",
    "y_test_hat1 = rfe.predict(x_test1)\n",
    "print(\"accuracy score on test set: \", accuracy_score(y_test1, y_test_hat1))"
   ]
  },
  {
   "cell_type": "code",
   "execution_count": 24,
   "id": "edd90f4e",
   "metadata": {},
   "outputs": [
    {
     "name": "stdout",
     "output_type": "stream",
     "text": [
      "Column: 0, Selected True, Rank: 1.000\n",
      "Column: 1, Selected True, Rank: 1.000\n",
      "Column: 2, Selected True, Rank: 1.000\n"
     ]
    }
   ],
   "source": [
    "# summarize all features\n",
    "for i in range(x_train1.shape[1]):\n",
    "    print('Column: %d, Selected %s, Rank: %.3f' % (i, rfe.support_[i], rfe.ranking_[i]))"
   ]
  },
  {
   "cell_type": "code",
   "execution_count": 25,
   "id": "26da6786",
   "metadata": {},
   "outputs": [
    {
     "name": "stdout",
     "output_type": "stream",
     "text": [
      "Acc on test set using 1 features:  0.6685288640595903\n",
      "Acc on test set using 2 features:  0.6499068901303539\n",
      "Acc on test set using 3 features:  0.6554934823091247\n"
     ]
    }
   ],
   "source": [
    "# to increment number of features, one at a time\n",
    "acc_scores = []\n",
    "for i in range(1,4):\n",
    "    clf = LogisticRegression()\n",
    "    rfe = RFE(estimator=clf, n_features_to_select=i)\n",
    "    # training model\n",
    "    rfe.fit(x_train1, y_train1)\n",
    "    # predicting on test set\n",
    "    y_pred = rfe.predict(x_test1)\n",
    "    acc_score = accuracy_score(y_test1, y_pred)\n",
    "    # print this\n",
    "    print(\"Acc on test set using\", i, \"features: \", acc_score)\n",
    "    # append to the list\n",
    "    acc_scores.append(acc_score)"
   ]
  },
  {
   "cell_type": "code",
   "execution_count": 26,
   "id": "c9507026",
   "metadata": {},
   "outputs": [
    {
     "data": {
      "text/plain": [
       "[<matplotlib.lines.Line2D at 0x13fb00590>]"
      ]
     },
     "execution_count": 26,
     "metadata": {},
     "output_type": "execute_result"
    },
    {
     "data": {
      "image/png": "[encoded data removed]",
      "text/plain": [
       "<Figure size 640x480 with 1 Axes>"
      ]
     },
     "metadata": {},
     "output_type": "display_data"
    }
   ],
   "source": [
    "# Estimating accuracy score on test set using RFE by using different number of features\n",
    "estimator = LogisticRegression()\n",
    "acc_scores = []\n",
    "for i in range(1, 4):\n",
    "    selector = RFE(estimator,n_features_to_select=i)\n",
    "    selector = selector.fit(x_train1, y_train1)\n",
    "    supp = selector.get_support()\n",
    "\n",
    "    predicted = selector.predict(x_test1)\n",
    "    acc_score = accuracy_score(y_test1, predicted)\n",
    "    acc_scores.append(acc_score)\n",
    "\n",
    "best = 1\n",
    "for item in acc_scores:\n",
    "    if item < acc_scores[best - 1]:\n",
    "        best = acc_scores.index(item) + 1\n",
    "\n",
    "plt.grid()\n",
    "plt.xlabel('# No. of features')\n",
    "plt.ylabel('Accuracy score on test set')\n",
    "plt.plot(range(1, 4), acc_scores, marker = 'o', color = 'lightblue', markeredgewidth = 1 ,markeredgecolor = 'lightblue', markerfacecolor = 'None')\n",
    "plt.plot(best, acc_scores[best-1], marker = 'o', markerfacecolor = 'lightblue')"
   ]
  },
  {
   "cell_type": "markdown",
   "id": "106e12a4",
   "metadata": {},
   "source": [
    "### Logistic Regression Analysis"
   ]
  },
  {
   "cell_type": "markdown",
   "id": "b0bd1544",
   "metadata": {},
   "source": [
    "From the initial Logistic Regression model, the accuracy of the test data set was about 64.9% with 8 features. From the accuracies above, the best option to go with is to include all 3 features based on the elbow method.\n",
    "Despite 1 feature being the most accurate, it would be too biased if the model only had 1 dependent variable. With the 3 most significant features after feature selection, there is an increase in the accuracy from 64% with 8 features to 65% with 3 features. Recursive Feature Selection plays an integral role in minimizing the noise within the model and in choosing the optimal number of features to be included in the model. "
   ]
  },
  {
   "cell_type": "markdown",
   "id": "e574c4ab",
   "metadata": {},
   "source": [
    "## K-Nearest Neighbors Model"
   ]
  },
  {
   "cell_type": "code",
   "execution_count": 27,
   "id": "cf49dd6f",
   "metadata": {},
   "outputs": [
    {
     "name": "stdout",
     "output_type": "stream",
     "text": [
      "Testing accuracy is:  0.6052141527001862\n"
     ]
    }
   ],
   "source": [
    "# Create and train a KNN classifier model\n",
    "clf = KNeighborsClassifier(n_neighbors = 10)\n",
    "clf.fit(x_train, y_train)\n",
    "\n",
    "# Use the model to predict testing data\n",
    "y_pred = clf.predict(x_test)\n",
    "accuracy = accuracy_score(y_pred, y_test)\n",
    "print('Testing accuracy is: ', accuracy)"
   ]
  },
  {
   "cell_type": "code",
   "execution_count": 28,
   "id": "a1087c56",
   "metadata": {},
   "outputs": [
    {
     "data": {
      "image/png": "[encoded data removed]",
      "text/plain": [
       "<Figure size 640x480 with 1 Axes>"
      ]
     },
     "metadata": {},
     "output_type": "display_data"
    }
   ],
   "source": [
    "# Plot the accurcy trend w.r.t. K\n",
    "training_error=list()\n",
    "testing_error=list()\n",
    "\n",
    "for i in range(1, 41):\n",
    "    clf = KNeighborsClassifier(n_neighbors = i)\n",
    "    clf.fit(x_train, y_train)\n",
    "    training_error.append(1.0-accuracy_score(clf.predict(x_train), y_train))\n",
    "    testing_error.append(1.0-accuracy_score(clf.predict(x_test), y_test))\n",
    "\n",
    "# Plot the relationship\n",
    "plt.plot(range(1, 41), training_error, marker='x', label='Trainining Error')\n",
    "plt.plot(range(1, 41), testing_error, marker='o', label='Testing Error')\n",
    "plt.xlabel('K')\n",
    "plt.ylabel('Error')\n",
    "plt.legend(loc='best')\n",
    "plt.show()"
   ]
  },
  {
   "cell_type": "markdown",
   "id": "eea92080",
   "metadata": {},
   "source": [
    "### k-fold cross validation"
   ]
  },
  {
   "cell_type": "code",
   "execution_count": 29,
   "id": "c8aad41b",
   "metadata": {},
   "outputs": [
    {
     "name": "stdout",
     "output_type": "stream",
     "text": [
      "Accuracy for each round: \n",
      " [0.55813953 0.63255814 0.57209302 0.57674419 0.60930233 0.62325581\n",
      " 0.58139535 0.59069767 0.53271028 0.61214953]\n",
      "Average accuracy: 0.5889 +- 0.0294\n"
     ]
    }
   ],
   "source": [
    "# Create a KNN classifier model and use k-fold cross validation for testing accuracy estimation\n",
    "clf = KNeighborsClassifier(n_neighbors = 10)\n",
    "scores = cross_val_score(clf, x_train, y_train, cv=10)\n",
    "print('Accuracy for each round: \\n', scores)\n",
    "print('Average accuracy: %.4f +- %.4f' % (scores.mean(), scores.std()))"
   ]
  },
  {
   "cell_type": "markdown",
   "id": "57e6a294",
   "metadata": {},
   "source": [
    "### Automatic model hyperparameter (algorithm parameter) tuning"
   ]
  },
  {
   "cell_type": "code",
   "execution_count": 30,
   "id": "4c579699",
   "metadata": {},
   "outputs": [
    {
     "name": "stdout",
     "output_type": "stream",
     "text": [
      "Best K value:  39\n",
      "The accuracy:  0.6340773744838077\n"
     ]
    }
   ],
   "source": [
    "# Define search space for parameters\n",
    "parameter_grid = {'n_neighbors': range(1, 41)}\n",
    "\n",
    "# Create the machine learning model\n",
    "knn_clf = KNeighborsClassifier()\n",
    "clf = GridSearchCV(knn_clf, parameter_grid, scoring='accuracy', cv=10)\n",
    "clf.fit(x_train, y_train)\n",
    "\n",
    "# Identify the best parameter(s)\n",
    "print('Best K value: ', clf.best_params_['n_neighbors'])\n",
    "print('The accuracy: ', clf.best_score_)"
   ]
  },
  {
   "cell_type": "markdown",
   "id": "03560538",
   "metadata": {},
   "source": [
    "### K-Nearest Neighbors Analysis"
   ]
  },
  {
   "cell_type": "code",
   "execution_count": 31,
   "id": "468df451",
   "metadata": {},
   "outputs": [
    {
     "name": "stdout",
     "output_type": "stream",
     "text": [
      "Initial KNN testing accuracy is:  0.6052141527001862\n",
      "After hyperparameter tuning KNN accuracy:  0.6340773744838077\n"
     ]
    }
   ],
   "source": [
    "print('Initial KNN testing accuracy is: ', accuracy)\n",
    "print('After hyperparameter tuning KNN accuracy: ', clf.best_score_)"
   ]
  },
  {
   "cell_type": "markdown",
   "id": "83b10473",
   "metadata": {},
   "source": [
    "For the K-Nearest Neighbors (KNN) section of this notebook, it was performed twice where in the the value of k in the initial KNN testing was 10 which yielded an accuracy of 60.52%. Comparing this to the KNN model with automatic model hyperparameter tuning, it evaluated that the best K value is 39 and the accuracy is 63.41%. This is aligned with the theory that the higher the k value, the higher the accuracy of the model. \n",
    "\n",
    "In addition, by comparing the best model using Logistic Regression and KNN, the model with the highest accuracy is the Logistic Regression model with 3 features after RFE which yielded a 65.5% accuracy which is higher than the KNN model with 39 folds. The best model for this data set would be through Logistic Regression with item, gender, and category as the independent variables in order to predict the dependent variable, rating. "
   ]
  }
 ],
 "metadata": {
  "colab": {
   "provenance": []
  },
  "kernelspec": {
   "display_name": "Python 3 (ipykernel)",
   "language": "python",
   "name": "python3"
  },
  "language_info": {
   "codemirror_mode": {
    "name": "ipython",
    "version": 3
   },
   "file_extension": ".py",
   "mimetype": "text/x-python",
   "name": "python",
   "nbconvert_exporter": "python",
   "pygments_lexer": "ipython3",
   "version": "3.11.4"
  }
 },
 "nbformat": 4,
 "nbformat_minor": 5
}
